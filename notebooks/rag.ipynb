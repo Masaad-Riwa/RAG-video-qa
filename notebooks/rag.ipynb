{
 "cells": [
  {
   "cell_type": "code",
   "execution_count": null,
   "id": "12669116",
   "metadata": {},
   "outputs": [],
   "source": [
    "import os\n",
    "from dotenv import load_dotenv\n",
    "\n",
    "load_dotenv()\n",
    "PINECONE_API_KEY = os.getenv(\"PINECONE_API_KEY\")\n",
    "GOOGLE_API_KEY = os.getenv(\"GOOGLE_API_KEY\")\n"
   ]
  },
  {
   "cell_type": "markdown",
   "id": "dde4b96f",
   "metadata": {},
   "source": [
    "## Model"
   ]
  },
  {
   "cell_type": "code",
   "execution_count": 3,
   "id": "f0f04362",
   "metadata": {},
   "outputs": [],
   "source": [
    "from langchain_google_genai import ChatGoogleGenerativeAI\n",
    "from langchain_core.output_parsers import StrOutputParser\n",
    "\n",
    "model = ChatGoogleGenerativeAI(google_api_key=GOOGLE_API_KEY, model=\"gemini-1.5-flash\")\n",
    "parser = StrOutputParser()\n"
   ]
  },
  {
   "cell_type": "markdown",
   "id": "60c1570b",
   "metadata": {},
   "source": [
    "Defining a prompt template:"
   ]
  },
  {
   "cell_type": "code",
   "execution_count": 4,
   "id": "f5e4549f",
   "metadata": {},
   "outputs": [],
   "source": [
    "from langchain.prompts import ChatPromptTemplate\n",
    "\n",
    "prompt_template = '''\n",
    "Answer the question based on the context below. Respond in a full sentence. If you can't answer the question reply \"I don't know.\"\n",
    "\n",
    "Context = {context}\n",
    "\n",
    "Question = {question}\n",
    "'''\n",
    "\n",
    "prompt = ChatPromptTemplate.from_template(prompt_template)\n"
   ]
  },
  {
   "cell_type": "code",
   "execution_count": 5,
   "id": "b20bed88",
   "metadata": {},
   "outputs": [],
   "source": [
    "chain = prompt | model | parser"
   ]
  },
  {
   "cell_type": "code",
   "execution_count": 6,
   "id": "d7a21ba0",
   "metadata": {},
   "outputs": [
    {
     "data": {
      "text/plain": [
       "\"Mary's sister is Anna.\""
      ]
     },
     "execution_count": 6,
     "metadata": {},
     "output_type": "execute_result"
    }
   ],
   "source": [
    "# Testing the chain\n",
    "chain.invoke({\"context\":\"Mary's sister is Anna\", \"question\":\"Who is Mary's sister\"})"
   ]
  },
  {
   "cell_type": "markdown",
   "id": "4c38043f",
   "metadata": {},
   "source": [
    "## Getting the video transcript"
   ]
  },
  {
   "cell_type": "markdown",
   "id": "9a9ab56a",
   "metadata": {},
   "source": [
    "We use Whisper to transcribe get the audio from the video url."
   ]
  },
  {
   "cell_type": "code",
   "execution_count": 5,
   "id": "6601f17e",
   "metadata": {},
   "outputs": [
    {
     "data": {
      "text/plain": [
       "'d:\\\\LEGION\\\\Documents\\\\Learning Stuff\\\\Projects\\\\RAG-video-qa\\\\audio.mp4'"
      ]
     },
     "execution_count": 5,
     "metadata": {},
     "output_type": "execute_result"
    }
   ],
   "source": [
    "import whisper\n",
    "from pytubefix import YouTube\n",
    "import tempfile\n",
    "\n",
    "video_url = \"https://www.youtube.com/watch?v=mxqOPdEUNTs&t=324s&ab_channel=PracticalEngineering\" #\"https://www.youtube.com/watch?v=SGSOCuByo24&ab_channel=LexFridman\" # https://www.youtube.com/watch?v=cdiD-9MMpb0\"\n",
    "yt = YouTube(video_url)\n",
    "audio_stream = yt.streams.filter(only_audio=True).first()\n",
    "\n",
    "\n",
    "transcription_model = whisper.load_model(\"base\")\n",
    "\n",
    "filename = \"audio.mp4\"\n",
    "audio_stream.download(filename=filename)\n"
   ]
  },
  {
   "cell_type": "code",
   "execution_count": 6,
   "id": "460324a6",
   "metadata": {},
   "outputs": [
    {
     "name": "stdout",
     "output_type": "stream",
     "text": [
      "Detecting language using up to the first 30 seconds. Use `--language` to specify the language\n",
      "Detected language: English\n",
      "[00:00.000 --> 00:07.440]  This is the Carl's Bad desalination plant outside San Diego, California.\n",
      "[00:07.440 --> 00:14.160]  It produces roughly 10% of the area's fresh water, around 50 million gallons or 23,000 cubic\n",
      "[00:14.160 --> 00:15.680]  meters per day.\n",
      "[00:15.680 --> 00:19.880]  Unlike most treatment plants that clean up water from rivers or lakes, the Carl's Bad\n",
      "[00:19.880 --> 00:23.960]  Plant pulls its water directly from the ocean.\n",
      "[00:23.960 --> 00:29.120]  Desalination, or the removal of salt from sea water, is one of those technologies that is\n",
      "[00:29.120 --> 00:31.520]  always seemed right on the horizon.\n",
      "[00:31.520 --> 00:36.360]  It might surprise you to learn that there are more than 18,000 desalination plants operating\n",
      "[00:36.360 --> 00:37.920]  across the globe.\n",
      "[00:37.920 --> 00:43.080]  But those plants provide less than a percent of global water needs, even though they consume\n",
      "[00:43.080 --> 00:46.720]  a quarter of all the energy used in the water industry.\n",
      "[00:46.720 --> 00:51.220]  I live like 100 miles away from the nearest sea, so it's easier for me to mix up my own\n",
      "[00:51.220 --> 00:53.760]  batch of sea water right here in the studio.\n",
      "[00:53.760 --> 00:58.480]  There are two main weights we use to desalinate water, and I've got some garage demonstrations\n",
      "[00:58.480 --> 01:00.680]  to show you exactly how they work.\n",
      "[01:00.680 --> 01:06.040]  Will the dubious chemistry set, or the cheapest pressure washer I could find work better?\n",
      "[01:06.040 --> 01:10.960]  Let's track the energy use and other complications for both these demos so we can compare at the\n",
      "[01:10.960 --> 01:12.360]  end of the video.\n",
      "[01:12.360 --> 01:16.720]  Dumping that's solved into a bucket of water may seem like no big deal, but reversing\n",
      "[01:16.720 --> 01:20.120]  the process is a lot more complicated than you might think.\n",
      "[01:20.120 --> 01:22.480]  I'm Grady, and this is Practical Engineer.\n",
      "[01:22.480 --> 01:40.400]  In today's episode, we're talking about desalination.\n",
      "[01:40.400 --> 01:42.480]  Earth is a watery place.\n",
      "[01:42.480 --> 01:45.080]  Zoom out and the stuff is practically everywhere.\n",
      "[01:45.080 --> 01:48.880]  It doesn't seem fair that the word drought is even in our lexicon.\n",
      "[01:48.880 --> 01:53.560]  And yet, the scarcity of water is one of the most widespread and serious challenges faced\n",
      "[01:53.560 --> 01:55.320]  by people around the world.\n",
      "[01:55.320 --> 02:01.160]  The oceans are a nearly unlimited resource of water with this seemingly trivial caveat,\n",
      "[02:01.160 --> 02:04.200]  which is just that the water is a little bit salty.\n",
      "[02:04.200 --> 02:10.080]  It's totally understandable to wonder why that little bit of salt is such an enormous obstacle.\n",
      "[02:10.080 --> 02:12.480]  How much salt is in sea water anyway?\n",
      "[02:12.480 --> 02:16.280]  You've heard of percent, but have you ever heard of per mil?\n",
      "[02:16.280 --> 02:21.000]  That another circle blew the slash, and now instead of parts per hundred, this symbol\n",
      "[02:21.000 --> 02:25.520]  means parts per thousand, which is the perfect unit to talk about salinity.\n",
      "[02:25.520 --> 02:29.600]  The salinity of the ocean actually varies a little bit geographically and through the\n",
      "[02:29.600 --> 02:35.760]  seasons, but in general, every liter of sea water usually has around 35 grams of dissolved\n",
      "[02:35.760 --> 02:36.760]  salt.\n",
      "[02:36.760 --> 02:41.080]  In other words, 35 parts per thousand or 35 per mil.\n",
      "[02:41.080 --> 02:45.600]  That means for this bucket, I need about this much salt to match the salinity of sea\n",
      "[02:45.600 --> 02:46.600]  water.\n",
      "[02:46.600 --> 02:50.000]  I didn't get a dead-on, but this is close enough for our demo.\n",
      "[02:50.000 --> 02:54.600]  Looks like a lot of salt, but I could dissolve about 10 times as much in the water before\n",
      "[02:54.600 --> 02:58.200]  the solution becomes saturated and won't hold anymore.\n",
      "[02:58.200 --> 03:03.240]  So compared to how salty it could be, sea water isn't that far from freshwater.\n",
      "[03:03.240 --> 03:07.880]  But compared to how salty it should be in order to be okay to drink in such, it has\n",
      "[03:07.880 --> 03:09.560]  a ways to go.\n",
      "[03:09.560 --> 03:14.760]  All saline solution used in medicine is 9 parts per thousand, because it's approximately\n",
      "[03:14.760 --> 03:16.680]  isotonic to your blood.\n",
      "[03:16.680 --> 03:20.040]  That means it won't dehydrate or overhydrate your cells.\n",
      "[03:20.040 --> 03:25.040]  But unless it's massed by a bunch of sugar, even that concentration of salt and water isn't\n",
      "[03:25.040 --> 03:26.720]  going to taste very good.\n",
      "[03:26.720 --> 03:30.840]  Most places don't put legal limits on dissolved solids for drinking water, but the World Health\n",
      "[03:30.840 --> 03:35.520]  Organization suggests anything more than one part per thousand is usually unacceptable\n",
      "[03:35.520 --> 03:36.520]  to consumers.\n",
      "[03:36.520 --> 03:38.280]  It just doesn't taste good.\n",
      "[03:38.280 --> 03:43.560]  100 parts per million or half per mil is generally the upper limit for fresh water, and that\n",
      "[03:43.560 --> 03:47.360]  includes all dissolved solids combined, not just salt.\n",
      "[03:47.360 --> 03:53.400]  But that means that sea water desalination has to remove, or in industry jargon reject,\n",
      "[03:53.400 --> 03:58.360]  more than 98% of the salt in water.\n",
      "[03:58.360 --> 04:03.400]  That's the reason why there are really only two main technologies in desalination, but\n",
      "[04:03.400 --> 04:08.160]  neither of them are particularly sophisticated, at least in their simplest form, so I'm\n",
      "[04:08.160 --> 04:12.640]  going to try some do-it-yourself desalination to show you how this works.\n",
      "[04:12.640 --> 04:17.960]  The oldest and most straightforward way to separate salt and water is distillation, and\n",
      "[04:17.960 --> 04:20.920]  this is my very basic setup to do just that.\n",
      "[04:20.920 --> 04:25.080]  All you chemists and laboratory professionals are probably shaking your heads right now,\n",
      "[04:25.080 --> 04:27.640]  but this is just to illustrate the basics.\n",
      "[04:27.640 --> 04:32.640]  On the left I have a flask of my homemade sea water sitting in sand, in a pot on a\n",
      "[04:32.640 --> 04:33.920]  hot plate.\n",
      "[04:33.920 --> 04:38.000]  Salt doesn't like to be a gas, at least not under the conditions we normally live in\n",
      "[04:38.000 --> 04:39.320]  on Earth.\n",
      "[04:39.320 --> 04:43.840]  Water, on the other hand, can be convinced into its gaseous state, was some heat from a\n",
      "[04:43.840 --> 04:45.600]  conventional hot plate.\n",
      "[04:45.600 --> 04:49.040]  And that's what I'm doing here, just adding some heat to the system.\n",
      "[04:49.040 --> 04:53.120]  And I'm tracking exactly how much heat using this kilowatt meter.\n",
      "[04:53.120 --> 04:57.720]  Once the water is converted to steam, it's effectively separated from the salt.\n",
      "[04:57.720 --> 05:02.480]  All I have to do is condense the vaporized water back into its liquid form.\n",
      "[05:02.480 --> 05:06.800]  This pump moves ice water through the condenser to encourage that process.\n",
      "[05:06.800 --> 05:11.960]  If the tube doesn't slip out of the beaker, it's built ice water all over the table.\n",
      "[05:11.960 --> 05:17.720]  In my receiving flask on the right, I should have distilled water that's nearly salt-free.\n",
      "[05:17.720 --> 05:21.720]  Testing it out with a meter, the dissolved solids are practically nil, just a few parts\n",
      "[05:21.720 --> 05:22.720]  per million.\n",
      "[05:22.720 --> 05:27.660]  But it took nearly two hours to get only 200 milliliters of water, and right about a\n",
      "[05:27.660 --> 05:30.440]  kilowatt hour of electricity, too.\n",
      "[05:30.440 --> 05:36.100]  During usage in the US varies quite a bit, but a rough estimate is 300 gallons or 1100\n",
      "[05:36.100 --> 05:38.360]  liters per day per household.\n",
      "[05:38.360 --> 05:43.600]  To produce that much water using my distillation setup here, I would have to scale it up nearly\n",
      "[05:43.600 --> 05:45.520]  500 times this size.\n",
      "[05:45.520 --> 05:51.560]  And, it would consume nearly 6,000 kilowatt hours in a day, assuming the same efficiency\n",
      "[05:51.560 --> 05:53.000]  I got in the demo.\n",
      "[05:53.000 --> 05:58.640]  At the average residential US electricity price, it's roughly $800 per day.\n",
      "[05:58.640 --> 06:00.360]  That's an expensive shower.\n",
      "[06:00.360 --> 06:02.080]  Would this be made more efficient?\n",
      "[06:02.080 --> 06:03.760]  I don't think so.\n",
      "[06:03.760 --> 06:05.960]  No, obviously a can.\n",
      "[06:05.960 --> 06:10.040]  My garage demo has very little going for it in terms of efficiency.\n",
      "[06:10.040 --> 06:12.840]  It's about as basic as distillation gets.\n",
      "[06:12.840 --> 06:14.840]  There's last heat going everywhere.\n",
      "[06:14.840 --> 06:19.200]  Modern distillation setups are much more efficient at separating liquids, especially because\n",
      "[06:19.200 --> 06:21.640]  they can take advantage of waste heat.\n",
      "[06:21.640 --> 06:27.840]  In fact, they're often co-located with coal or gas-fired power plants for this exact reason.\n",
      "[06:27.840 --> 06:32.680]  And there's a lot of technology just in minimizing the energy consumption of distillation, including\n",
      "[06:32.680 --> 06:39.600]  the reuse of heat or at least during condensation, using stages to evaporate liquids more efficiently,\n",
      "[06:39.600 --> 06:44.400]  and using pumps to lower the pressure and encourage further evaporation through mechanical\n",
      "[06:44.400 --> 06:45.400]  means.\n",
      "[06:45.400 --> 06:49.960]  But the thermal efficiency isn't the only challenge with distillation.\n",
      "[06:49.960 --> 06:53.960]  Take a look at the flasks that held the seawater after all the water boiled away, and you\n",
      "[06:53.960 --> 06:56.760]  can see the salt deposits building up.\n",
      "[06:56.760 --> 07:01.720]  And after distilling only a small amount of water, these scale deposits reduce the efficiency\n",
      "[07:01.720 --> 07:06.040]  of boiling because heat doesn't transfer through them very easily, which means they would\n",
      "[07:06.040 --> 07:08.320]  have to be cleaned off regularly.\n",
      "[07:08.320 --> 07:13.520]  One alternative is a flash evaporator that sends the liquid stream through an expansion valve\n",
      "[07:13.520 --> 07:18.120]  to force it to evaporate at temperatures lower than boiling, which minimizes the buildup\n",
      "[07:18.120 --> 07:19.400]  of scale.\n",
      "[07:19.400 --> 07:25.040]  Flash evaporators are the workhorses of desalination plants that use distillation, and especially\n",
      "[07:25.040 --> 07:29.720]  in the Middle East, plants like this have been reliably producing fresh water for decades\n",
      "[07:29.720 --> 07:30.720]  now.\n",
      "[07:30.720 --> 07:36.160]  But they're not the only way to get the job done.\n",
      "[07:36.160 --> 07:39.960]  The other primary type of desalination uses membranes.\n",
      "[07:39.960 --> 07:44.600]  You may have heard of the phenomenon called osmosis, where a solution naturally diffuses\n",
      "[07:44.600 --> 07:50.240]  through a barrier, but you can reverse the osmotic process, moving a solution from high\n",
      "[07:50.240 --> 07:54.480]  concentration to low with pressure, usually a lot of pressure.\n",
      "[07:54.480 --> 07:55.960]  Let me show you what I mean.\n",
      "[07:55.960 --> 08:01.120]  Luckily there are commercially available seawater membranes that don't cost an arm and a leg.\n",
      "[08:01.120 --> 08:05.480]  That's because these systems are frequently used in boats and ships to make fresh water\n",
      "[08:05.480 --> 08:06.480]  while it's sea.\n",
      "[08:06.480 --> 08:10.720]  But why spend thousands of dollars on a working water maker when you have the rudimentary\n",
      "[08:10.720 --> 08:12.720]  plumbing skills of a civil engineer?\n",
      "[08:12.720 --> 08:15.720]  Here's the membrane I'm using for this demo.\n",
      "[08:15.720 --> 08:20.200]  It's wrapped in a spiral so you get lots of surface area in a small package.\n",
      "[08:20.200 --> 08:24.000]  It's kind of like a filter that lets water pass through while holding back the dissolve\n",
      "[08:24.000 --> 08:27.600]  solid, but at a much tinier scale.\n",
      "[08:27.600 --> 08:32.840]  It's generally a lot more efficient than thermal distillation, so most modern desalination\n",
      "[08:32.840 --> 08:38.080]  plants use reverse osmosis, or RO for primary separation.\n",
      "[08:38.080 --> 08:43.320]  But as you'll see, it still uses a lot of energy way more than a typical raw water treatment\n",
      "[08:43.320 --> 08:44.320]  plant.\n",
      "[08:44.320 --> 08:47.560]  It takes a lot of pressure to force sea water through a membrane.\n",
      "[08:47.560 --> 08:53.320]  In my case, about 600 psi or 40 times normal atmospheric pressure.\n",
      "[08:53.320 --> 08:58.240]  Even small RO systems use high pressure pumps designed for continuous use, because this\n",
      "[08:58.240 --> 09:00.520]  is not a fast process.\n",
      "[09:00.520 --> 09:05.200]  Instead of springing for a nice pump, well suited for the application, I'm using the cheapest\n",
      "[09:05.200 --> 09:08.520]  power washer I could find at the local hardware store.\n",
      "[09:08.520 --> 09:11.800]  The instructions didn't say not to run saltwater through it.\n",
      "[09:11.800 --> 09:16.440]  The membrane sits inside this high pressure housing that keeps it from unraveling under\n",
      "[09:16.440 --> 09:18.960]  the immense forces inside.\n",
      "[09:18.960 --> 09:20.680]  That's if you hook everything up correctly.\n",
      "[09:20.680 --> 09:26.520]  I had to redo a few connections when the housing sprung a leak during early testing.\n",
      "[09:26.520 --> 09:31.040]  A booster pump delivers the sea water from the bucket to the pressure washer, then the\n",
      "[09:31.040 --> 09:33.640]  pressure washer sends it into the housing.\n",
      "[09:33.640 --> 09:38.360]  Unlike a typical filter, not all the feed water flows through the membrane.\n",
      "[09:38.360 --> 09:42.960]  Instead most of it flows past the membrane, and comes out on the other side, just a little\n",
      "[09:42.960 --> 09:45.200]  bit more concentrated with salt.\n",
      "[09:45.200 --> 09:48.360]  This is called the brine, and we'll talk more about it in a minute.\n",
      "[09:48.360 --> 09:52.800]  The water that does make it through the membrane, called the permeate, comes out in the center\n",
      "[09:52.800 --> 09:54.040]  of the housing.\n",
      "[09:54.040 --> 09:59.200]  You can see on my flow meters that if I close the valve on the brine discharge line, it\n",
      "[09:59.200 --> 10:03.880]  increases the pressure in the housing, forcing more of the water through the membrane.\n",
      "[10:03.880 --> 10:08.920]  The meter on the left is brine discharge, and the one on the right is the permeate line.\n",
      "[10:08.920 --> 10:13.920]  As I close the valve, the brine flow goes down, and the permeate flow goes up.\n",
      "[10:13.920 --> 10:17.480]  Of course I could close the brine flow all the way down, but you still need some water\n",
      "[10:17.480 --> 10:20.840]  to carry the salt away, or it will just fall up the membrane.\n",
      "[10:20.840 --> 10:24.560]  Typically you need to run water through these membranes for several hours before they\n",
      "[10:24.560 --> 10:26.840]  settle into their best performance.\n",
      "[10:26.840 --> 10:31.040]  My little power washer wasn't quite up to the task of running for that long, but even\n",
      "[10:31.040 --> 10:35.580]  after roughly half an hour, I was getting water with one to two parts per thousand of\n",
      "[10:35.580 --> 10:38.080]  dissolved solids through this crude setup.\n",
      "[10:38.080 --> 10:42.600]  That's not high quality drinking water, but it's definitely drinkable.\n",
      "[10:42.600 --> 10:46.720]  I ran this experiment a few times at different pressures, but the results didn't vary too\n",
      "[10:46.720 --> 10:47.720]  much.\n",
      "[10:47.720 --> 10:53.120]  For this run, the combined power for the booster pump and pressure washer was around 1200 watts,\n",
      "[10:53.120 --> 10:57.560]  and it took about 5 minutes to produce a liter, or a quarter of a gallon.\n",
      "[10:57.560 --> 11:02.620]  Going back to our residential household, it would take 4 pressure washers running non-stop\n",
      "[11:02.620 --> 11:05.720]  and consume more than 100 kilowatt hours in a day.\n",
      "[11:05.720 --> 11:10.560]  That's a huge improvement over the distillation demo, even considering the water quality\n",
      "[11:10.560 --> 11:17.200]  wasn't quite as good, but it's still $15 a day or more than $5,000 per year, just\n",
      "[11:17.200 --> 11:19.400]  to separate salt from water.\n",
      "[11:19.400 --> 11:24.520]  It won't surprise you to learn that, just like my crude distillation demo, my reverse osmosis\n",
      "[11:24.520 --> 11:30.600]  via pressure washer demo is also not nearly as efficient as it could be on a larger scale.\n",
      "[11:30.600 --> 11:36.200]  Modern RO plants use huge racks of high quality membrane units and high efficiency pumps.\n",
      "[11:36.200 --> 11:40.640]  They also recover the energy from the brine stream before it leaves the system back out\n",
      "[11:40.640 --> 11:45.400]  to sea, saving precious kilowatt hours already consumed by the pumps.\n",
      "[11:45.400 --> 11:52.000]  To separate a cubic meter or 264 gallons of seawater from its salt, my power washer RO system\n",
      "[11:52.000 --> 11:54.560]  would take about 100 kilowatt hours.\n",
      "[11:54.560 --> 11:58.320]  The newest RO plants can do it with just one or two.\n",
      "[11:58.320 --> 12:03.480]  But even though the separation step is energy intensive, it's not the only energy requirement\n",
      "[12:03.480 --> 12:05.520]  in a seawater d-sal plant.\n",
      "[12:05.520 --> 12:07.520]  And it's definitely not the only cost.\n",
      "[12:07.520 --> 12:12.360]  I'm using tap water in my demonstration, but these plants don't start with that.\n",
      "[12:12.360 --> 12:18.280]  Raw seawater not only has salt, but also dirt, algae, organic matter, and other contaminants\n",
      "[12:18.280 --> 12:19.360]  too.\n",
      "[12:19.360 --> 12:25.520]  Those constituents can foul or damage evaporators or membranes, so all d-sal plants use a\n",
      "[12:25.520 --> 12:28.840]  pre-treatment process to remove them first.\n",
      "[12:28.840 --> 12:33.760]  That takes energy and costs to keep up with the various chemical feeds and filters before\n",
      "[12:33.760 --> 12:37.240]  the water even reaches the salt separation process.\n",
      "[12:37.240 --> 12:42.240]  And even with good pre-treatment, the RO membranes or evaporators have to be taken out of service\n",
      "[12:42.240 --> 12:46.120]  for cleaning regularly and eventually they have to be replaced.\n",
      "[12:46.120 --> 12:51.320]  Additionally, you can't send RO permeate or distilled water directly to customers.\n",
      "[12:51.320 --> 12:52.680]  It's too clean.\n",
      "[12:52.680 --> 12:56.960]  It normally goes through a post-reement process to add minerals since most people prefer\n",
      "[12:56.960 --> 12:59.720]  the taste over just pure water.\n",
      "[12:59.720 --> 13:04.560]  Plus it gets disinfectant so that it can't be contaminated on its way through the distribution\n",
      "[13:04.560 --> 13:05.560]  system.\n",
      "[13:05.560 --> 13:07.680]  And don't forget about that brine.\n",
      "[13:07.680 --> 13:12.040]  All that salt that didn't come out of the product stream is now packed into a smaller\n",
      "[13:12.040 --> 13:16.160]  volume of water, making it more concentrated than before.\n",
      "[13:16.160 --> 13:21.000]  Modern desalination plants generally recover about half of the intake flow, which means\n",
      "[13:21.000 --> 13:25.920]  their brine stream is about twice the concentration of normal seawater.\n",
      "[13:25.920 --> 13:29.480]  It's a waste product that's actually pretty tough to get rid of.\n",
      "[13:29.480 --> 13:34.180]  You can't just discharge that super saline waste directly back into the sea because\n",
      "[13:34.180 --> 13:39.120]  of the environmental impacts, particularly on the plants and animals near the seafloor\n",
      "[13:39.120 --> 13:42.360]  since the concentrated solution usually sinks.\n",
      "[13:42.360 --> 13:47.760]  To avoid environmental impacts, most brine discharge lines either use diffusers to spread\n",
      "[13:47.760 --> 13:52.760]  out the salty solution so it dilutes faster or they blend the brine with some other stream\n",
      "[13:52.760 --> 13:57.760]  of water like power plant cooling lines or a wastewater effluent so it's diluted before\n",
      "[13:57.760 --> 13:58.760]  being released.\n",
      "[13:59.000 --> 14:03.480]  When that's not possible, some plants have to inject the salt water into the ground,\n",
      "[14:03.480 --> 14:07.760]  an expensive endeavor that only adds to operational costs.\n",
      "[14:07.760 --> 14:12.200]  With all the complications of separating salt from seawater, it's easy to let one's mind\n",
      "[14:12.200 --> 14:16.720]  drift toward alternatives like harnessing renewable sources of energy.\n",
      "[14:16.720 --> 14:22.160]  Like what if we could use solar power to not only distill seawater but also carry it inland\n",
      "[14:22.160 --> 14:27.160]  toward major cities and release it onto the ground where it could easily be collected.\n",
      "[14:27.160 --> 14:32.120]  But now we've just reinvented the water cycle which is already how we humans get the vast\n",
      "[14:32.120 --> 14:35.120]  majority of the water we use to drink cooking babe.\n",
      "[14:35.120 --> 14:40.960]  It's not like dams, reservoirs, canals, pumping stations and surface water intakes don't\n",
      "[14:40.960 --> 14:46.520]  have their own enormous costs and environmental impacts, but if Mother Nature isn't dropping\n",
      "[14:46.520 --> 14:52.240]  enough water for your particular populated area, you can build and operate a pretty long\n",
      "[14:52.240 --> 14:57.720]  pipeline for the immense costs and energy required to desalinate seawater.\n",
      "[14:57.720 --> 15:03.040]  And that's the problem with desalination, it's kind of like the nuclear power of water\n",
      "[15:03.040 --> 15:04.040]  supply.\n",
      "[15:04.040 --> 15:09.560]  It seems so simple on the surface, but when you add up all the practical costs and complexities,\n",
      "[15:09.560 --> 15:13.160]  it gets really hard to justify over other alternatives.\n",
      "[15:13.160 --> 15:18.200]  It's also harder to compare costs between those alternatives because of desals unique\n",
      "[15:18.200 --> 15:23.400]  problems. It's just a newer technology so it's harder to predict the hidden technical,\n",
      "[15:23.400 --> 15:26.520]  legal, political and environmental challenges.\n",
      "[15:26.520 --> 15:32.520]  For example, because of the high energy demands, desalination can strongly couple water costs\n",
      "[15:32.520 --> 15:34.720]  with electricity costs.\n",
      "[15:34.720 --> 15:39.520]  During a drought, the cost of hydropower goes up because there's less water available,\n",
      "[15:39.520 --> 15:44.760]  increasing overall energy costs and thus making desalination less viable right when you\n",
      "[15:44.760 --> 15:46.040]  need it most.\n",
      "[15:46.040 --> 15:51.400]  Of course, desalination is a viable solution in many situations, especially in places\n",
      "[15:51.400 --> 15:56.920]  with large populations and severe water scarcity.\n",
      "[15:56.920 --> 16:01.880]  All the biggest plants are in Middle Eastern countries like Saudi Arabia and the UAE.\n",
      "[16:01.880 --> 16:04.320]  That's because they really have no choice.\n",
      "[16:04.320 --> 16:09.600]  But it can also be viable in areas with a lot of variability in climate, like California,\n",
      "[16:09.600 --> 16:11.000]  Texas and Florida.\n",
      "[16:11.000 --> 16:17.200]  In these cases, a desalination plant is just one element in a diverse portfolio of resources\n",
      "[16:17.200 --> 16:19.320]  all with different risk profiles.\n",
      "[16:19.320 --> 16:24.680]  Yes, the desalinated water is more expensive than other options like rivers, reservoirs\n",
      "[16:24.680 --> 16:30.200]  and groundwater supplies, but it can be more reliable too, providing water during drought\n",
      "[16:30.200 --> 16:34.840]  conditions when the other sources are limited or completely unavailable.\n",
      "[16:34.840 --> 16:39.040]  And a lot of these costs and complexities get simpler when you're not pulling salt\n",
      "[16:39.040 --> 16:40.480]  out of sea water.\n",
      "[16:40.480 --> 16:45.400]  There are sources of water that have some salt, but not as much as the ocean, like estuaries\n",
      "[16:45.400 --> 16:47.400]  and brackish groundwater.\n",
      "[16:47.400 --> 16:52.440]  In places where such a supply is available, desalination can be a much more cost-effective\n",
      "[16:52.440 --> 16:54.680]  source of fresh water.\n",
      "[16:54.680 --> 17:00.120]  Another way to make desal projects more viable is to let the private sector take on the risks.\n",
      "[17:00.120 --> 17:04.760]  Many of the largest desalination plants are partnerships with private water companies,\n",
      "[17:04.760 --> 17:09.920]  rather than being financed, built and operated by the utility, like what's done for a typical\n",
      "[17:09.920 --> 17:11.560]  treatment plant.\n",
      "[17:11.560 --> 17:16.400]  Partnering with a private company allows a utility to offload the financing costs and\n",
      "[17:16.400 --> 17:22.160]  operational risks in return for the stability of a simple water purchase agreement.\n",
      "[17:22.160 --> 17:26.800]  You pay for it, build it, operate it, and we'll just buy the water from you.\n",
      "[17:26.800 --> 17:31.520]  This type of arrangement also keeps government boards from having to weigh in on complicated\n",
      "[17:31.520 --> 17:36.240]  technical issues and innovations where there's just not as much precedence to lean on as\n",
      "[17:36.240 --> 17:40.720]  there is with more established types of water infrastructure projects.\n",
      "[17:40.720 --> 17:45.360]  The private company running the Karlsbad plant in San Diego County I mentioned earlier,\n",
      "[17:45.360 --> 17:49.200]  is working on a major project scheduled to finish in 2024.\n",
      "[17:49.200 --> 17:54.760]  A new standalone sea water intake required after the power plant next door shut down in\n",
      "[17:54.760 --> 17:56.360]  2018.\n",
      "[17:56.360 --> 18:01.040]  Bonds issued for the project were upgraded to a rating of triple B by Fitch, meaning\n",
      "[18:01.040 --> 18:06.040]  the facility has a relatively stable outlook with a lower chance of defaulting.\n",
      "[18:06.040 --> 18:11.600]  That's just one rating agency's assessment of just one project on just one membrane\n",
      "[18:11.600 --> 18:17.080]  plant, but it gives some confidence that the technology of desalination is making progress,\n",
      "[18:17.080 --> 18:20.920]  and that it might become a bigger and bigger part of the world's limited supply of fresh\n",
      "[18:20.920 --> 18:22.600]  water in the future.\n",
      "[18:22.600 --> 18:27.960]  One of the cool things I learned about desalination while researching this video is that there is\n",
      "[18:27.960 --> 18:33.800]  a theoretical minimum amount of energy required to separate salt from fresh water.\n",
      "[18:33.800 --> 18:39.120]  Even the most efficient RO or distillation process can't do better than this limit, and\n",
      "[18:39.120 --> 18:43.080]  there's a great paper in the journal of chemical education explaining why.\n",
      "[18:43.080 --> 18:47.480]  But I have to be honest, trying to read this paper was like reading gibberish to me,\n",
      "[18:47.480 --> 18:51.080]  and it happens to me a lot actually, where I'm researching something that leads me to\n",
      "[18:51.080 --> 18:53.800]  the edge or beyond my understanding.\n",
      "[18:53.800 --> 18:57.760]  And I guess I could just give up at that point, but I would much rather break through the\n",
      "[18:57.760 --> 18:59.680]  lack of context and understanding.\n",
      "[18:59.680 --> 19:04.480]  It's important to me, and it makes me better at this job, and particularly for math and\n",
      "[19:04.480 --> 19:09.240]  science subjects, I just found that today's sponsor Brilliant.org is the best way to teach\n",
      "[19:09.240 --> 19:11.240]  yourself something new.\n",
      "[19:11.240 --> 19:14.320]  Of course Brilliant has a huge library of courses.\n",
      "[19:14.320 --> 19:19.280]  When I found particularly useful in understanding desalination was this fun set of puzzles about\n",
      "[19:19.280 --> 19:20.880]  chemical reactions.\n",
      "[19:20.880 --> 19:23.280]  It just tickles the right part of my brain.\n",
      "[19:23.280 --> 19:27.680]  But what I find far more important is that each lesson is interactive.\n",
      "[19:27.680 --> 19:33.040]  Most people, including me, learn better when they combine seeing, reading, and doing.\n",
      "[19:33.040 --> 19:35.760]  That's why I started Brilliant when I wanted Master a new skill.\n",
      "[19:35.760 --> 19:40.920]  If that sounds useful to you, you should go try yourself and see if you agree at Brilliant.org\n",
      "[19:40.920 --> 19:42.960]  slash practical engineering.\n",
      "[19:42.960 --> 19:47.040]  It's totally free to try for an entire month, and you can get through a lot of courses\n",
      "[19:47.040 --> 19:48.040]  in that time.\n",
      "[19:48.040 --> 19:52.920]  But if you do find yourself coming back, like I did, the link below will get you 20%\n",
      "[19:52.920 --> 19:55.840]  off an annual premium subscription.\n",
      "[19:55.840 --> 19:58.600]  They even have an app so you can try this on your phone.\n",
      "[19:58.600 --> 20:02.960]  I really believe that we should never stop trying to learn new things, and Brilliant makes\n",
      "[20:02.960 --> 20:06.640]  that so easy to do, and it supports the channel too.\n",
      "[20:06.640 --> 20:08.680]  Thank you for watching, and let me know what you think.\n",
      "Transcription complete and audio file deleted.\n"
     ]
    }
   ],
   "source": [
    "with open(\"transcription.txt\", \"w\", encoding=\"utf-8\") as f:\n",
    "    transcription = transcription_model.transcribe(filename, fp16=False, verbose=True)[\"text\"].strip()\n",
    "    f.write(transcription)\n",
    "    \n",
    "os.remove(filename)\n",
    "\n",
    "print(\"Transcription complete and audio file deleted.\")"
   ]
  },
  {
   "cell_type": "markdown",
   "id": "84b2d578",
   "metadata": {},
   "source": [
    "## Splitting the transcript into chunks"
   ]
  },
  {
   "cell_type": "code",
   "execution_count": 7,
   "id": "c1749787",
   "metadata": {},
   "outputs": [
    {
     "data": {
      "text/plain": [
       "[Document(metadata={'source': 'transcription.txt'}, page_content=\"This is the Carl's Bad desalination plant outside San Diego, California. It produces roughly 10% of the area's fresh water, around 50 million gallons or 23,000 cubic meters per day. Unlike most treatment plants that clean up water from rivers or lakes, the Carl's Bad Plant pulls its water directly from the ocean. Desalination, or the removal of salt from sea water, is one of those technologies that is always seemed right on the horizon. It might surprise you to learn that there are more than 18,000 desalination plants operating across the globe. But those plants provide less than a percent of global water needs, even though they consume a quarter of all the energy used in the water industry. I live like 100 miles away from the nearest sea, so it's easier for me to mix up my own batch of sea water right here in the studio. There are two main weights we use to desalinate water, and I've got some garage demonstrations to show you exactly how they work. Will the dubious chemistry set, or the cheapest pressure washer I could find work better? Let's track the energy use and other complications for both these demos so we can compare at the end of the video. Dumping that's solved into a bucket of water may seem like no big deal, but reversing the process is a lot more complicated than you might think. I'm Grady, and this is Practical Engineer. In today's episode, we're talking about desalination. Earth is a watery place. Zoom out and the stuff is practically everywhere. It doesn't seem fair that the word drought is even in our lexicon. And yet, the scarcity of water is one of the most widespread and serious challenges faced by people around the world. The oceans are a nearly unlimited resource of water with this seemingly trivial caveat, which is just that the water is a little bit salty. It's totally understandable to wonder why that little bit of salt is such an enormous obstacle. How much salt is in sea water anyway? You've heard of percent, but have you ever heard of per mil? That another circle blew the slash, and now instead of parts per hundred, this symbol means parts per thousand, which is the perfect unit to talk about salinity. The salinity of the ocean actually varies a little bit geographically and through the seasons, but in general, every liter of sea water usually has around 35 grams of dissolved salt. In other words, 35 parts per thousand or 35 per mil. That means for this bucket, I need about this much salt to match the salinity of sea water. I didn't get a dead-on, but this is close enough for our demo. Looks like a lot of salt, but I could dissolve about 10 times as much in the water before the solution becomes saturated and won't hold anymore. So compared to how salty it could be, sea water isn't that far from freshwater. But compared to how salty it should be in order to be okay to drink in such, it has a ways to go. All saline solution used in medicine is 9 parts per thousand, because it's approximately isotonic to your blood. That means it won't dehydrate or overhydrate your cells. But unless it's massed by a bunch of sugar, even that concentration of salt and water isn't going to taste very good. Most places don't put legal limits on dissolved solids for drinking water, but the World Health Organization suggests anything more than one part per thousand is usually unacceptable to consumers. It just doesn't taste good. 100 parts per million or half per mil is generally the upper limit for fresh water, and that includes all dissolved solids combined, not just salt. But that means that sea water desalination has to remove, or in industry jargon reject, more than 98% of the salt in water. That's the reason why there are really only two main technologies in desalination, but neither of them are particularly sophisticated, at least in their simplest form, so I'm going to try some do-it-yourself desalination to show you how this works. The oldest and most straightforward way to separate salt and water is distillation, and this is my very basic setup to do just that. All you chemists and laboratory professionals are probably shaking your heads right now, but this is just to illustrate the basics. On the left I have a flask of my homemade sea water sitting in sand, in a pot on a hot plate. Salt doesn't like to be a gas, at least not under the conditions we normally live in on Earth. Water, on the other hand, can be convinced into its gaseous state, was some heat from a conventional hot plate. And that's what I'm doing here, just adding some heat to the system. And I'm tracking exactly how much heat using this kilowatt meter. Once the water is converted to steam, it's effectively separated from the salt. All I have to do is condense the vaporized water back into its liquid form. This pump moves ice water through the condenser to encourage that process. If the tube doesn't slip out of the beaker, it's built ice water all over the table. In my receiving flask on the right, I should have distilled water that's nearly salt-free. Testing it out with a meter, the dissolved solids are practically nil, just a few parts per million. But it took nearly two hours to get only 200 milliliters of water, and right about a kilowatt hour of electricity, too. During usage in the US varies quite a bit, but a rough estimate is 300 gallons or 1100 liters per day per household. To produce that much water using my distillation setup here, I would have to scale it up nearly 500 times this size. And, it would consume nearly 6,000 kilowatt hours in a day, assuming the same efficiency I got in the demo. At the average residential US electricity price, it's roughly $800 per day. That's an expensive shower. Would this be made more efficient? I don't think so. No, obviously a can. My garage demo has very little going for it in terms of efficiency. It's about as basic as distillation gets. There's last heat going everywhere. Modern distillation setups are much more efficient at separating liquids, especially because they can take advantage of waste heat. In fact, they're often co-located with coal or gas-fired power plants for this exact reason. And there's a lot of technology just in minimizing the energy consumption of distillation, including the reuse of heat or at least during condensation, using stages to evaporate liquids more efficiently, and using pumps to lower the pressure and encourage further evaporation through mechanical means. But the thermal efficiency isn't the only challenge with distillation. Take a look at the flasks that held the seawater after all the water boiled away, and you can see the salt deposits building up. And after distilling only a small amount of water, these scale deposits reduce the efficiency of boiling because heat doesn't transfer through them very easily, which means they would have to be cleaned off regularly. One alternative is a flash evaporator that sends the liquid stream through an expansion valve to force it to evaporate at temperatures lower than boiling, which minimizes the buildup of scale. Flash evaporators are the workhorses of desalination plants that use distillation, and especially in the Middle East, plants like this have been reliably producing fresh water for decades now. But they're not the only way to get the job done. The other primary type of desalination uses membranes. You may have heard of the phenomenon called osmosis, where a solution naturally diffuses through a barrier, but you can reverse the osmotic process, moving a solution from high concentration to low with pressure, usually a lot of pressure. Let me show you what I mean. Luckily there are commercially available seawater membranes that don't cost an arm and a leg. That's because these systems are frequently used in boats and ships to make fresh water while it's sea. But why spend thousands of dollars on a working water maker when you have the rudimentary plumbing skills of a civil engineer? Here's the membrane I'm using for this demo. It's wrapped in a spiral so you get lots of surface area in a small package. It's kind of like a filter that lets water pass through while holding back the dissolve solid, but at a much tinier scale. It's generally a lot more efficient than thermal distillation, so most modern desalination plants use reverse osmosis, or RO for primary separation. But as you'll see, it still uses a lot of energy way more than a typical raw water treatment plant. It takes a lot of pressure to force sea water through a membrane. In my case, about 600 psi or 40 times normal atmospheric pressure. Even small RO systems use high pressure pumps designed for continuous use, because this is not a fast process. Instead of springing for a nice pump, well suited for the application, I'm using the cheapest power washer I could find at the local hardware store. The instructions didn't say not to run saltwater through it. The membrane sits inside this high pressure housing that keeps it from unraveling under the immense forces inside. That's if you hook everything up correctly. I had to redo a few connections when the housing sprung a leak during early testing. A booster pump delivers the sea water from the bucket to the pressure washer, then the pressure washer sends it into the housing. Unlike a typical filter, not all the feed water flows through the membrane. Instead most of it flows past the membrane, and comes out on the other side, just a little bit more concentrated with salt. This is called the brine, and we'll talk more about it in a minute. The water that does make it through the membrane, called the permeate, comes out in the center of the housing. You can see on my flow meters that if I close the valve on the brine discharge line, it increases the pressure in the housing, forcing more of the water through the membrane. The meter on the left is brine discharge, and the one on the right is the permeate line. As I close the valve, the brine flow goes down, and the permeate flow goes up. Of course I could close the brine flow all the way down, but you still need some water to carry the salt away, or it will just fall up the membrane. Typically you need to run water through these membranes for several hours before they settle into their best performance. My little power washer wasn't quite up to the task of running for that long, but even after roughly half an hour, I was getting water with one to two parts per thousand of dissolved solids through this crude setup. That's not high quality drinking water, but it's definitely drinkable. I ran this experiment a few times at different pressures, but the results didn't vary too much. For this run, the combined power for the booster pump and pressure washer was around 1200 watts, and it took about 5 minutes to produce a liter, or a quarter of a gallon. Going back to our residential household, it would take 4 pressure washers running non-stop and consume more than 100 kilowatt hours in a day. That's a huge improvement over the distillation demo, even considering the water quality wasn't quite as good, but it's still $15 a day or more than $5,000 per year, just to separate salt from water. It won't surprise you to learn that, just like my crude distillation demo, my reverse osmosis via pressure washer demo is also not nearly as efficient as it could be on a larger scale. Modern RO plants use huge racks of high quality membrane units and high efficiency pumps. They also recover the energy from the brine stream before it leaves the system back out to sea, saving precious kilowatt hours already consumed by the pumps. To separate a cubic meter or 264 gallons of seawater from its salt, my power washer RO system would take about 100 kilowatt hours. The newest RO plants can do it with just one or two. But even though the separation step is energy intensive, it's not the only energy requirement in a seawater d-sal plant. And it's definitely not the only cost. I'm using tap water in my demonstration, but these plants don't start with that. Raw seawater not only has salt, but also dirt, algae, organic matter, and other contaminants too. Those constituents can foul or damage evaporators or membranes, so all d-sal plants use a pre-treatment process to remove them first. That takes energy and costs to keep up with the various chemical feeds and filters before the water even reaches the salt separation process. And even with good pre-treatment, the RO membranes or evaporators have to be taken out of service for cleaning regularly and eventually they have to be replaced. Additionally, you can't send RO permeate or distilled water directly to customers. It's too clean. It normally goes through a post-reement process to add minerals since most people prefer the taste over just pure water. Plus it gets disinfectant so that it can't be contaminated on its way through the distribution system. And don't forget about that brine. All that salt that didn't come out of the product stream is now packed into a smaller volume of water, making it more concentrated than before. Modern desalination plants generally recover about half of the intake flow, which means their brine stream is about twice the concentration of normal seawater. It's a waste product that's actually pretty tough to get rid of. You can't just discharge that super saline waste directly back into the sea because of the environmental impacts, particularly on the plants and animals near the seafloor since the concentrated solution usually sinks. To avoid environmental impacts, most brine discharge lines either use diffusers to spread out the salty solution so it dilutes faster or they blend the brine with some other stream of water like power plant cooling lines or a wastewater effluent so it's diluted before being released. When that's not possible, some plants have to inject the salt water into the ground, an expensive endeavor that only adds to operational costs. With all the complications of separating salt from seawater, it's easy to let one's mind drift toward alternatives like harnessing renewable sources of energy. Like what if we could use solar power to not only distill seawater but also carry it inland toward major cities and release it onto the ground where it could easily be collected. But now we've just reinvented the water cycle which is already how we humans get the vast majority of the water we use to drink cooking babe. It's not like dams, reservoirs, canals, pumping stations and surface water intakes don't have their own enormous costs and environmental impacts, but if Mother Nature isn't dropping enough water for your particular populated area, you can build and operate a pretty long pipeline for the immense costs and energy required to desalinate seawater. And that's the problem with desalination, it's kind of like the nuclear power of water supply. It seems so simple on the surface, but when you add up all the practical costs and complexities, it gets really hard to justify over other alternatives. It's also harder to compare costs between those alternatives because of desals unique problems. It's just a newer technology so it's harder to predict the hidden technical, legal, political and environmental challenges. For example, because of the high energy demands, desalination can strongly couple water costs with electricity costs. During a drought, the cost of hydropower goes up because there's less water available, increasing overall energy costs and thus making desalination less viable right when you need it most. Of course, desalination is a viable solution in many situations, especially in places with large populations and severe water scarcity. All the biggest plants are in Middle Eastern countries like Saudi Arabia and the UAE. That's because they really have no choice. But it can also be viable in areas with a lot of variability in climate, like California, Texas and Florida. In these cases, a desalination plant is just one element in a diverse portfolio of resources all with different risk profiles. Yes, the desalinated water is more expensive than other options like rivers, reservoirs and groundwater supplies, but it can be more reliable too, providing water during drought conditions when the other sources are limited or completely unavailable. And a lot of these costs and complexities get simpler when you're not pulling salt out of sea water. There are sources of water that have some salt, but not as much as the ocean, like estuaries and brackish groundwater. In places where such a supply is available, desalination can be a much more cost-effective source of fresh water. Another way to make desal projects more viable is to let the private sector take on the risks. Many of the largest desalination plants are partnerships with private water companies, rather than being financed, built and operated by the utility, like what's done for a typical treatment plant. Partnering with a private company allows a utility to offload the financing costs and operational risks in return for the stability of a simple water purchase agreement. You pay for it, build it, operate it, and we'll just buy the water from you. This type of arrangement also keeps government boards from having to weigh in on complicated technical issues and innovations where there's just not as much precedence to lean on as there is with more established types of water infrastructure projects. The private company running the Karlsbad plant in San Diego County I mentioned earlier, is working on a major project scheduled to finish in 2024. A new standalone sea water intake required after the power plant next door shut down in 2018. Bonds issued for the project were upgraded to a rating of triple B by Fitch, meaning the facility has a relatively stable outlook with a lower chance of defaulting. That's just one rating agency's assessment of just one project on just one membrane plant, but it gives some confidence that the technology of desalination is making progress, and that it might become a bigger and bigger part of the world's limited supply of fresh water in the future. One of the cool things I learned about desalination while researching this video is that there is a theoretical minimum amount of energy required to separate salt from fresh water. Even the most efficient RO or distillation process can't do better than this limit, and there's a great paper in the journal of chemical education explaining why. But I have to be honest, trying to read this paper was like reading gibberish to me, and it happens to me a lot actually, where I'm researching something that leads me to the edge or beyond my understanding. And I guess I could just give up at that point, but I would much rather break through the lack of context and understanding. It's important to me, and it makes me better at this job, and particularly for math and science subjects, I just found that today's sponsor Brilliant.org is the best way to teach yourself something new. Of course Brilliant has a huge library of courses. When I found particularly useful in understanding desalination was this fun set of puzzles about chemical reactions. It just tickles the right part of my brain. But what I find far more important is that each lesson is interactive. Most people, including me, learn better when they combine seeing, reading, and doing. That's why I started Brilliant when I wanted Master a new skill. If that sounds useful to you, you should go try yourself and see if you agree at Brilliant.org slash practical engineering. It's totally free to try for an entire month, and you can get through a lot of courses in that time. But if you do find yourself coming back, like I did, the link below will get you 20% off an annual premium subscription. They even have an app so you can try this on your phone. I really believe that we should never stop trying to learn new things, and Brilliant makes that so easy to do, and it supports the channel too. Thank you for watching, and let me know what you think.\")]"
      ]
     },
     "execution_count": 7,
     "metadata": {},
     "output_type": "execute_result"
    }
   ],
   "source": [
    "from langchain_community.document_loaders import TextLoader\n",
    "\n",
    "loader = TextLoader(\"transcription.txt\")\n",
    "text_documents = loader.load()\n",
    "text_documents"
   ]
  },
  {
   "cell_type": "code",
   "execution_count": 8,
   "id": "f9b8a0f9",
   "metadata": {},
   "outputs": [
    {
     "name": "stdout",
     "output_type": "stream",
     "text": [
      "21\n"
     ]
    }
   ],
   "source": [
    "from langchain_text_splitters import RecursiveCharacterTextSplitter\n",
    "\n",
    "text_splitter = RecursiveCharacterTextSplitter(chunk_size=1000, chunk_overlap=20)\n",
    "documents = text_splitter.split_documents(text_documents)\n",
    "print(len(documents))"
   ]
  },
  {
   "cell_type": "markdown",
   "id": "2fad3ca9",
   "metadata": {},
   "source": [
    "## Embedding and Vector Database"
   ]
  },
  {
   "cell_type": "code",
   "execution_count": 9,
   "id": "9b815618",
   "metadata": {},
   "outputs": [],
   "source": [
    "from langchain_google_genai.embeddings import GoogleGenerativeAIEmbeddings\n",
    "\n",
    "embeddings = GoogleGenerativeAIEmbeddings(model=\"models/gemini-embedding-exp-03-07\")\n"
   ]
  },
  {
   "cell_type": "markdown",
   "id": "db7e4195",
   "metadata": {},
   "source": [
    "Manually create an index on [Pinecone](https://www.pinecone.io/) with dimension 3072 (to match the dimension of the embedding model we are using)."
   ]
  },
  {
   "cell_type": "code",
   "execution_count": 10,
   "id": "92ca6940",
   "metadata": {},
   "outputs": [
    {
     "name": "stdout",
     "output_type": "stream",
     "text": [
      "Index 'youtube-rag-3' already exists.\n",
      "{'dimension': 3072,\n",
      " 'index_fullness': 0.0,\n",
      " 'metric': 'cosine',\n",
      " 'namespaces': {},\n",
      " 'total_vector_count': 0,\n",
      " 'vector_type': 'dense'}\n"
     ]
    }
   ],
   "source": [
    "from pinecone import Pinecone, ServerlessSpec\n",
    "\n",
    "pc = Pinecone(api_key=PINECONE_API_KEY)\n",
    "\n",
    "index_name = \"youtube-rag-3\"\n",
    "\n",
    "# Check if the index already exists\n",
    "if index_name not in [index.name for index in pc.list_indexes()]:\n",
    "    pc.create_index(\n",
    "        name=index_name,\n",
    "        dimension=3072,\n",
    "        metric=\"cosine\",\n",
    "        spec=ServerlessSpec(\n",
    "            cloud=\"aws\",       \n",
    "            region=\"us-east-1\" \n",
    "        )\n",
    "    )\n",
    "    print(f\"Index '{index_name}' created.\")\n",
    "else:\n",
    "    print(f\"Index '{index_name}' already exists.\")\n",
    "\n",
    "index = pc.Index(index_name)\n",
    "\n",
    "print(index.describe_index_stats())\n"
   ]
  },
  {
   "cell_type": "code",
   "execution_count": 11,
   "id": "d1af2de3",
   "metadata": {},
   "outputs": [],
   "source": [
    "from langchain_pinecone import PineconeVectorStore\n",
    "\n",
    "index=\"youtube-rag-3\"\n",
    "vectorstore = PineconeVectorStore.from_existing_index(index_name=index, embedding=embeddings)\n"
   ]
  },
  {
   "cell_type": "markdown",
   "id": "9f404601",
   "metadata": {},
   "source": [
    "We process a limited number of documents per minute to respect the rate limit of the free tier of the Google GenAI API. Specifically, we delay each request to avoid exceeding the allowed number of requests per minute.\n"
   ]
  },
  {
   "cell_type": "code",
   "execution_count": 12,
   "id": "9b41be87",
   "metadata": {},
   "outputs": [
    {
     "name": "stdout",
     "output_type": "stream",
     "text": [
      "Embedding document 1 of 21...\n",
      "Processed document 1/21.\n",
      "Waiting 12.0 seconds before processing the next document...\n",
      "Embedding document 2 of 21...\n",
      "Processed document 2/21.\n",
      "Waiting 12.0 seconds before processing the next document...\n",
      "Embedding document 3 of 21...\n",
      "Processed document 3/21.\n",
      "Waiting 12.0 seconds before processing the next document...\n",
      "Embedding document 4 of 21...\n",
      "Processed document 4/21.\n",
      "Waiting 12.0 seconds before processing the next document...\n",
      "Embedding document 5 of 21...\n",
      "Processed document 5/21.\n",
      "Waiting 12.0 seconds before processing the next document...\n",
      "Embedding document 6 of 21...\n",
      "Processed document 6/21.\n",
      "Waiting 12.0 seconds before processing the next document...\n",
      "Embedding document 7 of 21...\n",
      "Processed document 7/21.\n",
      "Waiting 12.0 seconds before processing the next document...\n",
      "Embedding document 8 of 21...\n",
      "Processed document 8/21.\n",
      "Waiting 12.0 seconds before processing the next document...\n",
      "Embedding document 9 of 21...\n",
      "Processed document 9/21.\n",
      "Waiting 12.0 seconds before processing the next document...\n",
      "Embedding document 10 of 21...\n",
      "Processed document 10/21.\n",
      "Waiting 12.0 seconds before processing the next document...\n",
      "Embedding document 11 of 21...\n",
      "Processed document 11/21.\n",
      "Waiting 12.0 seconds before processing the next document...\n",
      "Embedding document 12 of 21...\n",
      "Processed document 12/21.\n",
      "Waiting 12.0 seconds before processing the next document...\n",
      "Embedding document 13 of 21...\n",
      "Processed document 13/21.\n",
      "Waiting 12.0 seconds before processing the next document...\n",
      "Embedding document 14 of 21...\n",
      "Processed document 14/21.\n",
      "Waiting 12.0 seconds before processing the next document...\n",
      "Embedding document 15 of 21...\n",
      "Processed document 15/21.\n",
      "Waiting 12.0 seconds before processing the next document...\n",
      "Embedding document 16 of 21...\n",
      "Processed document 16/21.\n",
      "Waiting 12.0 seconds before processing the next document...\n",
      "Embedding document 17 of 21...\n",
      "Processed document 17/21.\n",
      "Waiting 12.0 seconds before processing the next document...\n",
      "Embedding document 18 of 21...\n",
      "Processed document 18/21.\n",
      "Waiting 12.0 seconds before processing the next document...\n",
      "Embedding document 19 of 21...\n",
      "Processed document 19/21.\n",
      "Waiting 12.0 seconds before processing the next document...\n",
      "Embedding document 20 of 21...\n",
      "Processed document 20/21.\n",
      "Waiting 12.0 seconds before processing the next document...\n",
      "Embedding document 21 of 21...\n",
      "Processed document 21/21.\n"
     ]
    }
   ],
   "source": [
    "import time \n",
    "\n",
    "MAX_REQUESTS_PER_MINUTE = 5\n",
    "REQUEST_INTERVAL = 60  # 60 seconds\n",
    "DELAY_BETWEEN_DOCS = REQUEST_INTERVAL / MAX_REQUESTS_PER_MINUTE  # 15 seconds delay between documents\n",
    "\n",
    "for idx, doc in enumerate(documents):\n",
    "    print(f\"Embedding document {idx + 1} of {len(documents)}...\")\n",
    "\n",
    "    # Embed and add to Pinecone\n",
    "    vectorstore.add_documents([doc])\n",
    "\n",
    "    print(f\"Processed document {idx + 1}/{len(documents)}.\")\n",
    "\n",
    "    # Delay to stay within 2 requests per minute\n",
    "    if idx < len(documents) - 1:  # Avoid sleeping after the last document\n",
    "        print(f\"Waiting {DELAY_BETWEEN_DOCS} seconds before processing the next document...\")\n",
    "        time.sleep(DELAY_BETWEEN_DOCS)\n",
    "\n"
   ]
  },
  {
   "cell_type": "code",
   "execution_count": 13,
   "id": "792e2110",
   "metadata": {},
   "outputs": [
    {
     "data": {
      "text/plain": [
       "[Document(id='a2d8a47e-75ab-4761-b410-c29dc82a49d3', metadata={'source': 'transcription.txt'}, page_content=\"percent, but have you ever heard of per mil? That another circle blew the slash, and now instead of parts per hundred, this symbol means parts per thousand, which is the perfect unit to talk about salinity. The salinity of the ocean actually varies a little bit geographically and through the seasons, but in general, every liter of sea water usually has around 35 grams of dissolved salt. In other words, 35 parts per thousand or 35 per mil. That means for this bucket, I need about this much salt to match the salinity of sea water. I didn't get a dead-on, but this is close enough for our demo. Looks like a lot of salt, but I could dissolve about 10 times as much in the water before the solution becomes saturated and won't hold anymore. So compared to how salty it could be, sea water isn't that far from freshwater. But compared to how salty it should be in order to be okay to drink in such, it has a ways to go. All saline solution used in medicine is 9 parts per thousand, because it's\"),\n",
       " Document(id='9025b9bf-f753-4128-a4ac-9770e3e3eabb', metadata={'source': 'transcription.txt'}, page_content=\"because it's approximately isotonic to your blood. That means it won't dehydrate or overhydrate your cells. But unless it's massed by a bunch of sugar, even that concentration of salt and water isn't going to taste very good. Most places don't put legal limits on dissolved solids for drinking water, but the World Health Organization suggests anything more than one part per thousand is usually unacceptable to consumers. It just doesn't taste good. 100 parts per million or half per mil is generally the upper limit for fresh water, and that includes all dissolved solids combined, not just salt. But that means that sea water desalination has to remove, or in industry jargon reject, more than 98% of the salt in water. That's the reason why there are really only two main technologies in desalination, but neither of them are particularly sophisticated, at least in their simplest form, so I'm going to try some do-it-yourself desalination to show you how this works. The oldest and most\"),\n",
       " Document(id='7a450764-3467-486e-9764-a4cb6330271b', metadata={'source': 'transcription.txt'}, page_content=\"chemistry set, or the cheapest pressure washer I could find work better? Let's track the energy use and other complications for both these demos so we can compare at the end of the video. Dumping that's solved into a bucket of water may seem like no big deal, but reversing the process is a lot more complicated than you might think. I'm Grady, and this is Practical Engineer. In today's episode, we're talking about desalination. Earth is a watery place. Zoom out and the stuff is practically everywhere. It doesn't seem fair that the word drought is even in our lexicon. And yet, the scarcity of water is one of the most widespread and serious challenges faced by people around the world. The oceans are a nearly unlimited resource of water with this seemingly trivial caveat, which is just that the water is a little bit salty. It's totally understandable to wonder why that little bit of salt is such an enormous obstacle. How much salt is in sea water anyway? You've heard of percent, but have\")]"
      ]
     },
     "execution_count": 13,
     "metadata": {},
     "output_type": "execute_result"
    }
   ],
   "source": [
    "vectorstore.similarity_search(\"How much salt is in ocean saltwater?\")[:3]"
   ]
  },
  {
   "cell_type": "code",
   "execution_count": 16,
   "id": "663728ef",
   "metadata": {},
   "outputs": [
    {
     "data": {
      "text/plain": [
       "'Ocean saltwater usually has around 35 grams of dissolved salt per liter, or 35 parts per thousand.'"
      ]
     },
     "execution_count": 16,
     "metadata": {},
     "output_type": "execute_result"
    }
   ],
   "source": [
    "from langchain_core.runnables import RunnableParallel, RunnablePassthrough\n",
    "\n",
    "retriever = vectorstore.as_retriever()\n",
    "\n",
    "chain = (\n",
    "    {\"context\": vectorstore.as_retriever(), \"question\": RunnablePassthrough()}\n",
    "    | prompt | model | parser\n",
    ")\n",
    "response = chain.invoke(\"How much salt is in ocean saltwater?\")\n",
    "response"
   ]
  }
 ],
 "metadata": {
  "kernelspec": {
   "display_name": "Python 3",
   "language": "python",
   "name": "python3"
  },
  "language_info": {
   "codemirror_mode": {
    "name": "ipython",
    "version": 3
   },
   "file_extension": ".py",
   "mimetype": "text/x-python",
   "name": "python",
   "nbconvert_exporter": "python",
   "pygments_lexer": "ipython3",
   "version": "3.11.11"
  }
 },
 "nbformat": 4,
 "nbformat_minor": 5
}
